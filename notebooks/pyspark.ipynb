{
 "cells": [
  {
   "cell_type": "code",
   "execution_count": 1,
   "metadata": {},
   "outputs": [],
   "source": [
    "import pyspark"
   ]
  },
  {
   "cell_type": "code",
   "execution_count": 2,
   "metadata": {},
   "outputs": [],
   "source": [
    "from pyspark import SparkContext, SparkConf"
   ]
  },
  {
   "cell_type": "code",
   "execution_count": 3,
   "metadata": {},
   "outputs": [],
   "source": [
    "conf = SparkConf().setAppName('pyspark-notebook').setMaster('spark://spark-master:7077').set(\"spark.cores.max\", \"10\")"
   ]
  },
  {
   "cell_type": "code",
   "execution_count": 4,
   "metadata": {},
   "outputs": [],
   "source": [
    "sc = SparkContext(conf=conf)"
   ]
  },
  {
   "cell_type": "code",
   "execution_count": 5,
   "metadata": {},
   "outputs": [
    {
     "data": {
      "text/plain": [
       "[209,\n",
       " 13,\n",
       " 905,\n",
       " 8,\n",
       " 422,\n",
       " 640,\n",
       " 498,\n",
       " 632,\n",
       " 401,\n",
       " 523,\n",
       " 219,\n",
       " 710,\n",
       " 613,\n",
       " 917,\n",
       " 741,\n",
       " 343,\n",
       " 119,\n",
       " 578,\n",
       " 811,\n",
       " 420,\n",
       " 525,\n",
       " 821,\n",
       " 373,\n",
       " 726,\n",
       " 886,\n",
       " 709,\n",
       " 695,\n",
       " 371,\n",
       " 918,\n",
       " 717,\n",
       " 605,\n",
       " 862,\n",
       " 513,\n",
       " 601,\n",
       " 814,\n",
       " 649,\n",
       " 171,\n",
       " 656,\n",
       " 874,\n",
       " 705,\n",
       " 405,\n",
       " 773,\n",
       " 780,\n",
       " 904,\n",
       " 69,\n",
       " 408,\n",
       " 682,\n",
       " 297,\n",
       " 259,\n",
       " 470]"
      ]
     },
     "execution_count": 5,
     "metadata": {},
     "output_type": "execute_result"
    }
   ],
   "source": [
    "# do something to prove it works\n",
    "rdd = sc.parallelize(range(1000))\n",
    "rdd.takeSample(False, 50)"
   ]
  },
  {
   "cell_type": "code",
   "execution_count": 6,
   "metadata": {},
   "outputs": [
    {
     "name": "stdout",
     "output_type": "stream",
     "text": [
      "664579\n"
     ]
    }
   ],
   "source": [
    "from math import sqrt; from itertools import count, islice\n",
    "\n",
    "def isprime(n):\n",
    "    return n > 1 and all(n%i for i in islice(count(2), int(sqrt(n)-1)))\n",
    "\n",
    "nums = sc.parallelize(range(10000000))\n",
    "print(nums.filter(isprime).count())"
   ]
  },
  {
   "cell_type": "code",
   "execution_count": null,
   "metadata": {},
   "outputs": [],
   "source": []
  }
 ],
 "metadata": {
  "kernelspec": {
   "display_name": "Python 3",
   "language": "python",
   "name": "python3"
  },
  "language_info": {
   "codemirror_mode": {
    "name": "ipython",
    "version": 3
   },
   "file_extension": ".py",
   "mimetype": "text/x-python",
   "name": "python",
   "nbconvert_exporter": "python",
   "pygments_lexer": "ipython3",
   "version": "3.6.6"
  }
 },
 "nbformat": 4,
 "nbformat_minor": 2
}
