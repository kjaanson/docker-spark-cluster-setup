{
 "cells": [
  {
   "cell_type": "code",
   "execution_count": 1,
   "metadata": {},
   "outputs": [],
   "source": [
    "import pyspark"
   ]
  },
  {
   "cell_type": "code",
   "execution_count": 2,
   "metadata": {},
   "outputs": [],
   "source": [
    "from pyspark import SparkContext, SparkConf"
   ]
  },
  {
   "cell_type": "code",
   "execution_count": 3,
   "metadata": {},
   "outputs": [],
   "source": [
    "conf = SparkConf().setAppName('pyspark-notebook').setMaster('spark://spark-master:7077').set(\"spark.cores.max\", \"10\")"
   ]
  },
  {
   "cell_type": "code",
   "execution_count": 4,
   "metadata": {},
   "outputs": [],
   "source": [
    "sc = SparkContext(conf=conf)"
   ]
  },
  {
   "cell_type": "code",
   "execution_count": 5,
   "metadata": {},
   "outputs": [
    {
     "data": {
      "text/plain": [
       "[541,\n",
       " 354,\n",
       " 958,\n",
       " 804,\n",
       " 24,\n",
       " 463,\n",
       " 777,\n",
       " 609,\n",
       " 903,\n",
       " 248,\n",
       " 907,\n",
       " 522,\n",
       " 835,\n",
       " 122,\n",
       " 605,\n",
       " 41,\n",
       " 477,\n",
       " 37,\n",
       " 335,\n",
       " 579,\n",
       " 759,\n",
       " 85,\n",
       " 877,\n",
       " 930,\n",
       " 114,\n",
       " 273,\n",
       " 84,\n",
       " 442,\n",
       " 861,\n",
       " 280,\n",
       " 843,\n",
       " 863,\n",
       " 65,\n",
       " 343,\n",
       " 870,\n",
       " 277,\n",
       " 36,\n",
       " 27,\n",
       " 9,\n",
       " 509,\n",
       " 361,\n",
       " 874,\n",
       " 694,\n",
       " 362,\n",
       " 312,\n",
       " 625,\n",
       " 58,\n",
       " 818,\n",
       " 308,\n",
       " 876]"
      ]
     },
     "execution_count": 5,
     "metadata": {},
     "output_type": "execute_result"
    }
   ],
   "source": [
    "# do something to prove it works\n",
    "rdd = sc.parallelize(range(1000))\n",
    "rdd.takeSample(False, 50)"
   ]
  },
  {
   "cell_type": "code",
   "execution_count": 6,
   "metadata": {},
   "outputs": [
    {
     "name": "stdout",
     "output_type": "stream",
     "text": [
      "664579\n"
     ]
    }
   ],
   "source": [
    "from math import sqrt; from itertools import count, islice\n",
    "\n",
    "def isprime(n):\n",
    "    return n > 1 and all(n%i for i in islice(count(2), int(sqrt(n)-1)))\n",
    "\n",
    "nums = sc.parallelize(range(10000000))\n",
    "print(nums.filter(isprime).count())"
   ]
  },
  {
   "cell_type": "code",
   "execution_count": null,
   "metadata": {},
   "outputs": [],
   "source": []
  }
 ],
 "metadata": {
  "kernelspec": {
   "display_name": "Python 3",
   "language": "python",
   "name": "python3"
  },
  "language_info": {
   "codemirror_mode": {
    "name": "ipython",
    "version": 3
   },
   "file_extension": ".py",
   "mimetype": "text/x-python",
   "name": "python",
   "nbconvert_exporter": "python",
   "pygments_lexer": "ipython3",
   "version": "3.6.6"
  }
 },
 "nbformat": 4,
 "nbformat_minor": 2
}
